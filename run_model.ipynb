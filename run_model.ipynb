{
  "cells": [
    {
      "cell_type": "markdown",
      "metadata": {
        "id": "6Rd84OAenPwQ"
      },
      "source": [
        "Install dependencies"
      ]
    },
    {
      "cell_type": "code",
      "execution_count": null,
      "metadata": {
        "id": "ZYV3Xn3oiD0Z"
      },
      "outputs": [],
      "source": [
        "!pip install openmim==0.3.6\n",
        "!pip install mmdet==2.28.1\n",
        "!pip install mmcv-full==1.7.0 -f https://download.openmmlab.com/mmcv/dist/cu117/torch1.13/index.html\n",
        "!pip install numpy==1.23.1\n",
        "!pip install Pillow==9.4.0\n",
        "!pip install matplotlib==3.6.3\n",
        "!pip install opencv-python==4.7.0.68\n",
        "!pip install mmrotate==0.3.4\n",
        "!pip install git+https://github.com/qubvel/segmentation_models.pytorch\n",
        "!pip install ultralytics\n",
        "!mim install mmcv-full"
      ]
    },
    {
      "cell_type": "markdown",
      "metadata": {
        "id": "uGwW87W67upK"
      },
      "source": [
        "Mount the entire model and images from Google Drive\n",
        "\n",
        "You need to have the following files:\n",
        "\n",
        "*   model.py\n",
        "*   my_config_redet.py \n",
        "*   Model weights (as zip or latest.pth)\n",
        "*   images to run the model on\n",
        "\n",
        "\n"
      ]
    },
    {
      "cell_type": "code",
      "execution_count": null,
      "metadata": {
        "colab": {
          "base_uri": "https://localhost:8080/"
        },
        "id": "4yBL4i9U7vTi",
        "outputId": "4022c9d0-be9c-4901-cfb8-044ac2fb943a"
      },
      "outputs": [],
      "source": [
        "from google.colab import drive\n",
        "drive.mount('/content/drive')"
      ]
    },
    {
      "cell_type": "markdown",
      "metadata": {
        "id": "5ClknJ3_DlmK"
      },
      "source": [
        "Move to the Drive mount"
      ]
    },
    {
      "cell_type": "code",
      "execution_count": null,
      "metadata": {
        "colab": {
          "base_uri": "https://localhost:8080/"
        },
        "id": "mJUgf4uRDkgB",
        "outputId": "9817794c-d37e-4173-945b-a06fe986cab9"
      },
      "outputs": [],
      "source": [
        "%cd /content/drive/MyDrive/MAFAT Model"
      ]
    },
    {
      "cell_type": "markdown",
      "metadata": {
        "id": "POn8WwZFhHEG"
      },
      "source": [
        "Import the model class"
      ]
    },
    {
      "cell_type": "code",
      "execution_count": null,
      "metadata": {
        "colab": {
          "base_uri": "https://localhost:8080/"
        },
        "id": "ARcfRkkGhHEL",
        "outputId": "db3e2e1d-7736-4748-de0b-6c245bc7f22f"
      },
      "outputs": [],
      "source": [
        "from model import model"
      ]
    },
    {
      "attachments": {},
      "cell_type": "markdown",
      "metadata": {},
      "source": [
        "Import some other packages for the image prediction"
      ]
    },
    {
      "cell_type": "code",
      "execution_count": 5,
      "metadata": {
        "id": "Rr3cR9fOmwVS"
      },
      "outputs": [],
      "source": [
        "import cv2"
      ]
    },
    {
      "cell_type": "markdown",
      "metadata": {
        "id": "xnyNv2h2hHEM"
      },
      "source": [
        "Load the model weights - Put the zip file of the weights inside the root project directory"
      ]
    },
    {
      "cell_type": "code",
      "execution_count": null,
      "metadata": {
        "colab": {
          "base_uri": "https://localhost:8080/"
        },
        "id": "dQSkWXvYhHEN",
        "outputId": "e91e5901-be37-4af5-c729-3149782d1c2b"
      },
      "outputs": [],
      "source": [
        "model = model()\n",
        "model.load(r\"/content/drive/MyDrive/MAFAT Model\")"
      ]
    },
    {
      "cell_type": "markdown",
      "metadata": {
        "id": "P4No8gKGhHEN"
      },
      "source": [
        "Load the image for the model to work on"
      ]
    },
    {
      "cell_type": "code",
      "execution_count": 10,
      "metadata": {
        "id": "CmRjbrWkhHEN"
      },
      "outputs": [],
      "source": [
        "IMAGE_PATH = r\"/content/drive/MyDrive/MAFAT Model/data/images/126_1280_5120.tiff\"\n",
        "\n",
        "# Load the TIFF file as a 16-bit grayscale image\n",
        "img_gray = cv2.imread(IMAGE_PATH, cv2.IMREAD_UNCHANGED)\n",
        "\n",
        "# Convert the 16-bit grayscale image to a 16-bit RGB image\n",
        "img = cv2.cvtColor(img_gray, cv2.COLOR_GRAY2RGB)\n",
        "\n",
        "if img is None:\n",
        "    print('Failed to load image')\n",
        "\n",
        "# Another try with tensor (expected an image so probably not relevant)\n",
        "\"\"\"\n",
        "img = Image.open(IMAGE_PATH)\n",
        "transform = transforms.Compose([\n",
        "    transforms.ToTensor()\n",
        "])\n",
        "tensor = transform(img)\n",
        "# device = torch.device('cuda' if torch.cuda.is_available() else 'cpu')\n",
        "device = torch.device('cpu')\n",
        "tensor = tensor.to(device)\n",
        "tensor = tensor.view(1280, 1280)\n",
        "print(tensor.shape)\n",
        "\"\"\""
      ]
    },
    {
      "cell_type": "markdown",
      "metadata": {
        "id": "tlkU_lY1hHEO"
      },
      "source": [
        "Predict the objects in the image"
      ]
    },
    {
      "cell_type": "code",
      "execution_count": null,
      "metadata": {
        "colab": {
          "base_uri": "https://localhost:8080/",
          "height": 1000
        },
        "id": "pJtIZTdLhHEO",
        "outputId": "d5f5ce53-1eb2-4dd6-cbd6-6dee58a22af4"
      },
      "outputs": [],
      "source": [
        "detections = model.predict(img)\n",
        "# Stuck with error of resize with opencv"
      ]
    },
    {
      "cell_type": "markdown",
      "metadata": {
        "id": "J8bQrUqqhHEP"
      },
      "source": [
        "Parse the output of the predict function to extract the detection information"
      ]
    },
    {
      "cell_type": "code",
      "execution_count": null,
      "metadata": {
        "id": "1Qmyk0HBhHEQ"
      },
      "outputs": [],
      "source": [
        "for i, cls in enumerate(model.CLASSES):\n",
        "    for detection in detections[i]:\n",
        "        confidence = detection[0]\n",
        "        coordinates = detection[1:]\n",
        "        x1, y1, x2, y2, x3, y3, x4, y4 = coordinates"
      ]
    }
  ],
  "metadata": {
    "accelerator": "GPU",
    "colab": {
      "provenance": []
    },
    "gpuClass": "standard",
    "kernelspec": {
      "display_name": "Python 3",
      "language": "python",
      "name": "python3"
    },
    "language_info": {
      "name": "python",
      "version": "3.11.1"
    },
    "orig_nbformat": 4,
    "vscode": {
      "interpreter": {
        "hash": "b5294d972ff969287672f6d02a5e4f7a57135b26bb7e7304efd1eab757803d43"
      }
    }
  },
  "nbformat": 4,
  "nbformat_minor": 0
}
