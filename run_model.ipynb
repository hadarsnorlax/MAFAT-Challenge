{
 "cells": [
  {
   "attachments": {},
   "cell_type": "markdown",
   "metadata": {},
   "source": [
    "Import the model class"
   ]
  },
  {
   "cell_type": "code",
   "execution_count": null,
   "metadata": {},
   "outputs": [],
   "source": [
    "import cv2\n",
    "from model import model"
   ]
  },
  {
   "attachments": {},
   "cell_type": "markdown",
   "metadata": {},
   "source": [
    "Load the model weights - Put the zip file of the weights inside the root project directory"
   ]
  },
  {
   "cell_type": "code",
   "execution_count": null,
   "metadata": {},
   "outputs": [],
   "source": [
    "model = model()\n",
    "model.load(r\"C:\\Users\\hadar\\Desktop\\Projects\\MAFAT-Challenge\")"
   ]
  },
  {
   "attachments": {},
   "cell_type": "markdown",
   "metadata": {},
   "source": [
    "Load the image for the model to work on"
   ]
  },
  {
   "cell_type": "code",
   "execution_count": null,
   "metadata": {},
   "outputs": [],
   "source": [
    "IMAGE_PATH = r\"C:\\Users\\hadar\\Desktop\\Projects\\MAFAT-Challenge\\testing\\data\\images\\126_1280_5120.tiff\"\n",
    "img = cv2.imread(IMAGE_PATH, cv2.IMREAD_GRAYSCALE)"
   ]
  },
  {
   "attachments": {},
   "cell_type": "markdown",
   "metadata": {},
   "source": [
    "Predict the objects in the image"
   ]
  },
  {
   "cell_type": "code",
   "execution_count": null,
   "metadata": {},
   "outputs": [],
   "source": [
    "detections = model.predict(img)"
   ]
  },
  {
   "attachments": {},
   "cell_type": "markdown",
   "metadata": {},
   "source": [
    "Parse the output of the predict function to extract the detection information"
   ]
  },
  {
   "cell_type": "code",
   "execution_count": null,
   "metadata": {},
   "outputs": [],
   "source": [
    "for i, cls in enumerate(model.CLASSES):\n",
    "    for detection in detections[i]:\n",
    "        confidence = detection[0]\n",
    "        coordinates = detection[1:]\n",
    "        x1, y1, x2, y2, x3, y3, x4, y4 = coordinates"
   ]
  }
 ],
 "metadata": {
  "kernelspec": {
   "display_name": "Python 3",
   "language": "python",
   "name": "python3"
  },
  "language_info": {
   "name": "python",
   "version": "3.10.4"
  },
  "orig_nbformat": 4,
  "vscode": {
   "interpreter": {
    "hash": "1d6bc949d04f5953f64a72b3f42dcd7343e25a98dec074e278d62054c957127d"
   }
  }
 },
 "nbformat": 4,
 "nbformat_minor": 2
}
